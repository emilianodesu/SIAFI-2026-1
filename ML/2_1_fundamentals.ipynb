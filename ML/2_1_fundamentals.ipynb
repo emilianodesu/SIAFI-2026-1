{
 "cells": [
  {
   "cell_type": "markdown",
   "id": "174fd7e9",
   "metadata": {},
   "source": [
    "# 2. Machine Learning"
   ]
  }
 ],
 "metadata": {
  "language_info": {
   "name": "python"
  }
 },
 "nbformat": 4,
 "nbformat_minor": 5
}
