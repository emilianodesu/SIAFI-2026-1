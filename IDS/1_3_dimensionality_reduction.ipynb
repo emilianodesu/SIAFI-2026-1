{
 "cells": [
  {
   "cell_type": "markdown",
   "id": "1b13c61a",
   "metadata": {},
   "source": [
    "# 1. Introduction to Data Science"
   ]
  },
  {
   "cell_type": "markdown",
   "id": "aedf172a",
   "metadata": {},
   "source": [
    "## 1.4 Dimensionality Reduction"
   ]
  }
 ],
 "metadata": {
  "language_info": {
   "name": "python"
  }
 },
 "nbformat": 4,
 "nbformat_minor": 5
}
