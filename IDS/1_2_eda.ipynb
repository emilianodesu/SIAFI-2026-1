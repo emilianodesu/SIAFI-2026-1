{
 "cells": [
  {
   "cell_type": "markdown",
   "id": "303885f4",
   "metadata": {},
   "source": [
    "# 1. Introduction to Data Science"
   ]
  },
  {
   "cell_type": "markdown",
   "id": "cd35f6d2",
   "metadata": {},
   "source": [
    "## 1.3 Exploratory Data Analysis (EDA)"
   ]
  }
 ],
 "metadata": {
  "language_info": {
   "name": "python"
  }
 },
 "nbformat": 4,
 "nbformat_minor": 5
}
