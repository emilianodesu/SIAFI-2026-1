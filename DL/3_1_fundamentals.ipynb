{
 "cells": [
  {
   "cell_type": "markdown",
   "id": "bba275f0",
   "metadata": {},
   "source": [
    "# 3. Deep Learning"
   ]
  }
 ],
 "metadata": {
  "language_info": {
   "name": "python"
  }
 },
 "nbformat": 4,
 "nbformat_minor": 5
}
